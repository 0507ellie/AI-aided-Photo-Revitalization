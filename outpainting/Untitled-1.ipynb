{
 "cells": [
  {
   "cell_type": "code",
   "execution_count": null,
   "metadata": {},
   "outputs": [],
   "source": [
    "import os\n",
    "\n",
    "def rename_files(folder_path):\n",
    "    # 取得資料夾中的所有檔案\n",
    "    files = os.listdir(folder_path)\n",
    "    # 計數器，用來生成新的檔案名稱\n",
    "    count = 1\n",
    "    \n",
    "    # 迭代資料夾中的所有檔案\n",
    "    for file_name in files:\n",
    "        # 檢查檔案是否是圖片檔案（你可以根據需要修改檔案類型的判斷）\n",
    "        if file_name.endswith('.jpg'):\n",
    "            # 新的檔案名稱\n",
    "            new_file_name = f\"{count}.jpg\"\n",
    "            # 建立舊檔案和新檔案的完整路徑\n",
    "            old_path = os.path.join(folder_path, file_name)\n",
    "            new_path = os.path.join(folder_path, new_file_name)\n",
    "            # 將檔案重新命名\n",
    "            os.rename(old_path, new_path)\n",
    "            print(f\"Renamed {file_name} to {new_file_name}\")\n",
    "            # 更新計數器\n",
    "            count += 1\n",
    "\n",
    "# 呼叫函式，傳入資料夾的路徑\n",
    "folder_path = '/home/jonathanliu/Desktop/hgsh/outpainting_srn/train_imgs'\n",
    "rename_files(folder_path)\n"
   ]
  }
 ],
 "metadata": {
  "language_info": {
   "name": "python"
  }
 },
 "nbformat": 4,
 "nbformat_minor": 2
}
