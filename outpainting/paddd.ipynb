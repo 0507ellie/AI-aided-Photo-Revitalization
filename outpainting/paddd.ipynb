{
 "cells": [
  {
   "cell_type": "code",
   "execution_count": 15,
   "metadata": {},
   "outputs": [
    {
     "data": {
      "text/plain": [
       "True"
      ]
     },
     "execution_count": 15,
     "metadata": {},
     "output_type": "execute_result"
    }
   ],
   "source": [
    "import cv2\n",
    "\n",
    "# 读取图像\n",
    "image = cv2.imread('/home/jonathanliu/Desktop/hgsh/outpainting_srn/imgs/celebahq-256/1.png')\n",
    "\n",
    "# 调整图像大小\n",
    "new_height = 128\n",
    "new_width = 128\n",
    "resized_image = cv2.resize(image, (new_width, new_height))\n",
    "\n",
    "# 保存调整后的图像\n",
    "cv2.imwrite('/home/jonathanliu/Desktop/hgsh/outpainting_srn/imgs/celebahq_copy/resized_image.jpg', resized_image)\n"
   ]
  }
 ],
 "metadata": {
  "kernelspec": {
   "display_name": "Python 3",
   "language": "python",
   "name": "python3"
  },
  "language_info": {
   "codemirror_mode": {
    "name": "ipython",
    "version": 3
   },
   "file_extension": ".py",
   "mimetype": "text/x-python",
   "name": "python",
   "nbconvert_exporter": "python",
   "pygments_lexer": "ipython3",
   "version": "3.10.6"
  },
  "orig_nbformat": 4
 },
 "nbformat": 4,
 "nbformat_minor": 2
}
